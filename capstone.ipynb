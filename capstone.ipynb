{
  "nbformat": 4,
  "nbformat_minor": 0,
  "metadata": {
    "colab": {
      "provenance": [],
      "authorship_tag": "ABX9TyOvcUQJKu3LRcMRXSLmW9Dh",
      "include_colab_link": true
    },
    "kernelspec": {
      "name": "python3",
      "display_name": "Python 3"
    },
    "language_info": {
      "name": "python"
    }
  },
  "cells": [
    {
      "cell_type": "markdown",
      "metadata": {
        "id": "view-in-github",
        "colab_type": "text"
      },
      "source": [
        "<a href=\"https://colab.research.google.com/github/sabdaaf/capstone-ds/blob/main/capstone.ipynb\" target=\"_parent\"><img src=\"https://colab.research.google.com/assets/colab-badge.svg\" alt=\"Open In Colab\"/></a>"
      ]
    },
    {
      "cell_type": "code",
      "execution_count": 1,
      "metadata": {
        "id": "OGpkOeGtFiBf"
      },
      "outputs": [],
      "source": [
        "import pandas as pd\n",
        "import matplotlib.pyplot as plt\n",
        "import seaborn as sns\n",
        "from sklearn.preprocessing import LabelEncoder, StandardScaler\n",
        "from sklearn.model_selection import train_test_split, GridSearchCV\n",
        "from sklearn.metrics import classification_report, confusion_matrix, ConfusionMatrixDisplay, accuracy_score, f1_score, precision_score, recall_score\n",
        "from sklearn.ensemble import RandomForestClassifier\n",
        "from sklearn.svm import SVC\n",
        "from sklearn.neighbors import KNeighborsClassifier\n",
        "import warnings\n",
        "warnings.filterwarnings('ignore')"
      ]
    },
    {
      "cell_type": "code",
      "source": [
        "df = pd.read_csv('ObesityDataSet.csv')"
      ],
      "metadata": {
        "id": "tE81BrQSGTOb"
      },
      "execution_count": 3,
      "outputs": []
    },
    {
      "cell_type": "code",
      "source": [
        "# Menampilkan beberapa baris pertama dari dataset\n",
        "print(df.head())"
      ],
      "metadata": {
        "id": "wuCLpTOIG2qY",
        "colab": {
          "base_uri": "https://localhost:8080/"
        },
        "outputId": "071238ea-b651-46cc-dc1e-4ba5b9a0d7ff"
      },
      "execution_count": 7,
      "outputs": [
        {
          "output_type": "stream",
          "name": "stdout",
          "text": [
            "  Age  Gender Height Weight        CALC FAVC FCVC NCP  SCC SMOKE CH2O  \\\n",
            "0  21  Female   1.62     64          no   no    2   3   no    no    2   \n",
            "1  21  Female   1.52     56   Sometimes   no    3   3  yes   yes    3   \n",
            "2  23    Male    1.8     77  Frequently   no    2   3   no    no    2   \n",
            "3  27    Male    1.8     87  Frequently   no    3   3   no    no    2   \n",
            "4  22    Male   1.78   89.8   Sometimes   no    2   1   no    no    2   \n",
            "\n",
            "  family_history_with_overweight FAF TUE       CAEC                 MTRANS  \\\n",
            "0                            yes   0   1  Sometimes  Public_Transportation   \n",
            "1                            yes   3   0  Sometimes  Public_Transportation   \n",
            "2                            yes   2   1  Sometimes  Public_Transportation   \n",
            "3                             no   2   0  Sometimes                Walking   \n",
            "4                             no   0   0  Sometimes  Public_Transportation   \n",
            "\n",
            "            NObeyesdad  \n",
            "0        Normal_Weight  \n",
            "1        Normal_Weight  \n",
            "2        Normal_Weight  \n",
            "3   Overweight_Level_I  \n",
            "4  Overweight_Level_II  \n"
          ]
        }
      ]
    },
    {
      "cell_type": "code",
      "source": [
        "df_info = df.info()"
      ],
      "metadata": {
        "colab": {
          "base_uri": "https://localhost:8080/"
        },
        "id": "hz5kG2J8G8xH",
        "outputId": "f94a6551-b34c-4975-821a-199246875944"
      },
      "execution_count": 6,
      "outputs": [
        {
          "output_type": "stream",
          "name": "stdout",
          "text": [
            "<class 'pandas.core.frame.DataFrame'>\n",
            "RangeIndex: 2111 entries, 0 to 2110\n",
            "Data columns (total 17 columns):\n",
            " #   Column                          Non-Null Count  Dtype \n",
            "---  ------                          --------------  ----- \n",
            " 0   Age                             2097 non-null   object\n",
            " 1   Gender                          2102 non-null   object\n",
            " 2   Height                          2099 non-null   object\n",
            " 3   Weight                          2100 non-null   object\n",
            " 4   CALC                            2106 non-null   object\n",
            " 5   FAVC                            2100 non-null   object\n",
            " 6   FCVC                            2103 non-null   object\n",
            " 7   NCP                             2099 non-null   object\n",
            " 8   SCC                             2101 non-null   object\n",
            " 9   SMOKE                           2106 non-null   object\n",
            " 10  CH2O                            2105 non-null   object\n",
            " 11  family_history_with_overweight  2098 non-null   object\n",
            " 12  FAF                             2103 non-null   object\n",
            " 13  TUE                             2102 non-null   object\n",
            " 14  CAEC                            2100 non-null   object\n",
            " 15  MTRANS                          2105 non-null   object\n",
            " 16  NObeyesdad                      2111 non-null   object\n",
            "dtypes: object(17)\n",
            "memory usage: 280.5+ KB\n"
          ]
        }
      ]
    },
    {
      "cell_type": "code",
      "source": [
        "# Menampilkan deskripsi statistik dataset\n",
        "print(df.describe(include='all'))"
      ],
      "metadata": {
        "id": "1Rg4nMJBHQEO",
        "colab": {
          "base_uri": "https://localhost:8080/"
        },
        "outputId": "e44eee5a-a4a4-4af9-a4f5-e94f26b00c57"
      },
      "execution_count": 9,
      "outputs": [
        {
          "output_type": "stream",
          "name": "stdout",
          "text": [
            "         Age Gender Height Weight       CALC  FAVC  FCVC   NCP   SCC SMOKE  \\\n",
            "count   2097   2102   2099   2100       2106  2100  2103  2099  2101  2106   \n",
            "unique  1394      3   1562   1518          5     3   808   637     3     3   \n",
            "top       18   Male    1.7     80  Sometimes   yes     3     3    no    no   \n",
            "freq     124   1056     58     58       1386  1844   647  1183  1997  2054   \n",
            "\n",
            "        CH2O family_history_with_overweight   FAF   TUE       CAEC  \\\n",
            "count   2105                           2098  2103  2102       2100   \n",
            "unique  1263                              3  1186  1130          5   \n",
            "top        2                            yes     0     0  Sometimes   \n",
            "freq     441                           1705   404   552       1747   \n",
            "\n",
            "                       MTRANS      NObeyesdad  \n",
            "count                    2105            2111  \n",
            "unique                      6               7  \n",
            "top     Public_Transportation  Obesity_Type_I  \n",
            "freq                     1572             351  \n"
          ]
        }
      ]
    },
    {
      "cell_type": "code",
      "source": [
        "# Menampilkan cek missing values dan unique values\n",
        "print(df.isnull().sum())\n",
        "print(df.nunique())"
      ],
      "metadata": {
        "id": "3Zi036X5HWSF",
        "colab": {
          "base_uri": "https://localhost:8080/"
        },
        "outputId": "61d89ab2-2fea-4931-fabd-b7dc82ad073c"
      },
      "execution_count": 11,
      "outputs": [
        {
          "output_type": "stream",
          "name": "stdout",
          "text": [
            "Age                               14\n",
            "Gender                             9\n",
            "Height                            12\n",
            "Weight                            11\n",
            "CALC                               5\n",
            "FAVC                              11\n",
            "FCVC                               8\n",
            "NCP                               12\n",
            "SCC                               10\n",
            "SMOKE                              5\n",
            "CH2O                               6\n",
            "family_history_with_overweight    13\n",
            "FAF                                8\n",
            "TUE                                9\n",
            "CAEC                              11\n",
            "MTRANS                             6\n",
            "NObeyesdad                         0\n",
            "dtype: int64\n",
            "Age                               1394\n",
            "Gender                               3\n",
            "Height                            1562\n",
            "Weight                            1518\n",
            "CALC                                 5\n",
            "FAVC                                 3\n",
            "FCVC                               808\n",
            "NCP                                637\n",
            "SCC                                  3\n",
            "SMOKE                                3\n",
            "CH2O                              1263\n",
            "family_history_with_overweight       3\n",
            "FAF                               1186\n",
            "TUE                               1130\n",
            "CAEC                                 5\n",
            "MTRANS                               6\n",
            "NObeyesdad                           7\n",
            "dtype: int64\n"
          ]
        }
      ]
    },
    {
      "cell_type": "code",
      "source": [
        "# Memeriksa duplikasi data\n",
        "print(df.duplicated().sum())"
      ],
      "metadata": {
        "id": "SC7mn9QzHaFS",
        "colab": {
          "base_uri": "https://localhost:8080/"
        },
        "outputId": "cafaf535-db09-4167-aa5c-0e8b223fdf66"
      },
      "execution_count": 13,
      "outputs": [
        {
          "output_type": "stream",
          "name": "stdout",
          "text": [
            "18\n"
          ]
        }
      ]
    },
    {
      "cell_type": "code",
      "source": [
        "# Cek keseimbangan data target\n",
        "sns.countplot(data=df, x='NObeyesdad', order=df['NObeyesdad'].value_counts().index)\n",
        "plt.xticks(rotation=45)\n",
        "plt.title('Distribusi Kelas Obesitas')\n",
        "plt.tight_layout()\n",
        "plt.show()"
      ],
      "metadata": {
        "id": "9MMqpXA2HfNb",
        "colab": {
          "base_uri": "https://localhost:8080/",
          "height": 487
        },
        "outputId": "bb969fe2-a934-42ef-a770-26c13e12eb5d"
      },
      "execution_count": 14,
      "outputs": [
        {
          "output_type": "display_data",
          "data": {
            "text/plain": [
              "<Figure size 640x480 with 1 Axes>"
            ],
            "image/png": "[encoded data removed]"
          },
          "metadata": {}
        }
      ]
    },
    {
      "cell_type": "code",
      "source": [
        "# Memilih hanya kolom numerik untuk boxplot\n",
        "numeric_data = df.select_dtypes(include=['object']).apply(pd.to_numeric, errors='coerce')"
      ],
      "metadata": {
        "id": "Sc5eWT8xHiZB"
      },
      "execution_count": 15,
      "outputs": []
    },
    {
      "cell_type": "code",
      "source": [
        "# Membuat boxplot untuk deteksi outlier\n",
        "plt.figure(figsize=(10, 6))\n",
        "sns.boxplot(data=numeric_data)\n",
        "plt.title('Boxplot untuk Deteksi Outlier')\n",
        "plt.xticks(rotation=90)\n",
        "plt.show()"
      ],
      "metadata": {
        "colab": {
          "base_uri": "https://localhost:8080/",
          "height": 750
        },
        "id": "QlnAYP3rHnkv",
        "outputId": "c69859df-9a95-4667-9e04-158cb5405fa1"
      },
      "execution_count": 18,
      "outputs": [
        {
          "output_type": "display_data",
          "data": {
            "text/plain": [
              "<Figure size 1000x600 with 1 Axes>"
            ],
            "image/png": "[encoded data removed]"
          },
          "metadata": {}
        }
      ]
    },
    {
      "cell_type": "markdown",
      "source": [
        "Preprocessing"
      ],
      "metadata": {
        "id": "Gg8xz6Z47CUl"
      }
    },
    {
      "cell_type": "code",
      "source": [
        "# Menampilkan hasil analisis\n",
        "(df_head, df_info, df_description, missing_values, unique_values, duplicate_data, target_balance)"
      ],
      "metadata": {
        "colab": {
          "base_uri": "https://localhost:8080/"
        },
        "id": "8itnH31WHsXw",
        "outputId": "f86f7570-3d5b-487e-bb4b-2040ac1eebd3"
      },
      "execution_count": null,
      "outputs": [
        {
          "output_type": "execute_result",
          "data": {
            "text/plain": [
              "(  Age  Gender Height Weight        CALC FAVC FCVC NCP  SCC SMOKE CH2O  \\\n",
              " 0  21  Female   1.62     64          no   no    2   3   no    no    2   \n",
              " 1  21  Female   1.52     56   Sometimes   no    3   3  yes   yes    3   \n",
              " 2  23    Male    1.8     77  Frequently   no    2   3   no    no    2   \n",
              " 3  27    Male    1.8     87  Frequently   no    3   3   no    no    2   \n",
              " 4  22    Male   1.78   89.8   Sometimes   no    2   1   no    no    2   \n",
              " \n",
              "   family_history_with_overweight FAF TUE       CAEC                 MTRANS  \\\n",
              " 0                            yes   0   1  Sometimes  Public_Transportation   \n",
              " 1                            yes   3   0  Sometimes  Public_Transportation   \n",
              " 2                            yes   2   1  Sometimes  Public_Transportation   \n",
              " 3                             no   2   0  Sometimes                Walking   \n",
              " 4                             no   0   0  Sometimes  Public_Transportation   \n",
              " \n",
              "             NObeyesdad  \n",
              " 0        Normal_Weight  \n",
              " 1        Normal_Weight  \n",
              " 2        Normal_Weight  \n",
              " 3   Overweight_Level_I  \n",
              " 4  Overweight_Level_II  ,\n",
              " None,\n",
              "          Age Gender Height Weight       CALC  FAVC  FCVC   NCP   SCC SMOKE  \\\n",
              " count   2097   2102   2099   2100       2106  2100  2103  2099  2101  2106   \n",
              " unique  1394      3   1562   1518          5     3   808   637     3     3   \n",
              " top       18   Male    1.7     80  Sometimes   yes     3     3    no    no   \n",
              " freq     124   1056     58     58       1386  1844   647  1183  1997  2054   \n",
              " \n",
              "         CH2O family_history_with_overweight   FAF   TUE       CAEC  \\\n",
              " count   2105                           2098  2103  2102       2100   \n",
              " unique  1263                              3  1186  1130          5   \n",
              " top        2                            yes     0     0  Sometimes   \n",
              " freq     441                           1705   404   552       1747   \n",
              " \n",
              "                        MTRANS      NObeyesdad  \n",
              " count                    2105            2111  \n",
              " unique                      6               7  \n",
              " top     Public_Transportation  Obesity_Type_I  \n",
              " freq                     1572             351  ,\n",
              " Age                               14\n",
              " Gender                             9\n",
              " Height                            12\n",
              " Weight                            11\n",
              " CALC                               5\n",
              " FAVC                              11\n",
              " FCVC                               8\n",
              " NCP                               12\n",
              " SCC                               10\n",
              " SMOKE                              5\n",
              " CH2O                               6\n",
              " family_history_with_overweight    13\n",
              " FAF                                8\n",
              " TUE                                9\n",
              " CAEC                              11\n",
              " MTRANS                             6\n",
              " NObeyesdad                         0\n",
              " dtype: int64,\n",
              " Age                               1394\n",
              " Gender                               3\n",
              " Height                            1562\n",
              " Weight                            1518\n",
              " CALC                                 5\n",
              " FAVC                                 3\n",
              " FCVC                               808\n",
              " NCP                                637\n",
              " SCC                                  3\n",
              " SMOKE                                3\n",
              " CH2O                              1263\n",
              " family_history_with_overweight       3\n",
              " FAF                               1186\n",
              " TUE                               1130\n",
              " CAEC                                 5\n",
              " MTRANS                               6\n",
              " NObeyesdad                           7\n",
              " dtype: int64,\n",
              " np.int64(18),\n",
              " NObeyesdad\n",
              " Obesity_Type_I         351\n",
              " Obesity_Type_III       324\n",
              " Obesity_Type_II        297\n",
              " Overweight_Level_I     290\n",
              " Overweight_Level_II    290\n",
              " Normal_Weight          287\n",
              " Insufficient_Weight    272\n",
              " Name: count, dtype: int64)"
            ]
          },
          "metadata": {},
          "execution_count": 11
        }
      ]
    },
    {
      "cell_type": "code",
      "source": [
        "# Drop duplikasi\n",
        "df = df.drop_duplicates()"
      ],
      "metadata": {
        "id": "_qIUKqsqQ_Fs"
      },
      "execution_count": null,
      "outputs": []
    },
    {
      "cell_type": "code",
      "source": [
        "# Encode fitur kategorikal\n",
        "df_encoded = df.copy()\n",
        "categorical_cols = df_encoded.select_dtypes(include='object').columns\n",
        "le = LabelEncoder()\n",
        "for col in categorical_cols:\n",
        "    df_encoded[col] = le.fit_transform(df_encoded[col])\n"
      ],
      "metadata": {
        "id": "ldFQWn6o7Nj6"
      },
      "execution_count": 19,
      "outputs": []
    },
    {
      "cell_type": "code",
      "source": [
        "# Cek ulang duplikasi\n",
        "df_encoded.drop_duplicates(inplace=True)"
      ],
      "metadata": {
        "id": "VtqGvg667S0P"
      },
      "execution_count": 20,
      "outputs": []
    },
    {
      "cell_type": "code",
      "source": [
        "# Normalisasi\n",
        "scaler = StandardScaler()\n",
        "X = df_encoded.drop('NObeyesdad', axis=1)\n",
        "y = df_encoded['NObeyesdad']\n",
        "X_scaled = scaler.fit_transform(X)"
      ],
      "metadata": {
        "id": "G7iPr9MO7YBk"
      },
      "execution_count": 21,
      "outputs": []
    },
    {
      "cell_type": "code",
      "source": [
        "# Train-test split\n",
        "X_train, X_test, y_train, y_test = train_test_split(X_scaled, y, test_size=0.2, random_state=42)"
      ],
      "metadata": {
        "id": "mzP5R2hJ7cHQ"
      },
      "execution_count": 22,
      "outputs": []
    },
    {
      "cell_type": "code",
      "source": [
        "# Convert 'Weight' column to numeric, coercing errors to NaN\n",
        "df['Weight'] = pd.to_numeric(df['Weight'], errors='coerce')\n",
        "\n",
        "# Drop rows where 'Weight' could not be converted to numeric (NaN)\n",
        "# Or handle NaN values in a different way if appropriate\n",
        "df = df.dropna(subset=['Weight'])\n",
        "\n",
        "# Outlier removal (contoh pakai IQR)\n",
        "Q1 = df['Weight'].quantile(0.25)\n",
        "Q3 = df['Weight'].quantile(0.75)\n",
        "IQR = Q3 - Q1\n",
        "\n",
        "# Define the lower and upper bounds for outlier detection\n",
        "lower_bound = Q1 - 1.5 * IQR\n",
        "upper_bound = Q3 + 1.5 * IQR\n",
        "\n",
        "# Filter the DataFrame to remove outliers in the 'Weight' column\n",
        "df = df[(df['Weight'] >= lower_bound) & (df['Weight'] <= upper_bound)].copy()"
      ],
      "metadata": {
        "id": "L0_hmm88RFJp"
      },
      "execution_count": null,
      "outputs": []
    },
    {
      "cell_type": "code",
      "source": [
        "from sklearn.preprocessing import LabelEncoder\n",
        "\n",
        "df_encoded = df.copy()\n",
        "for col in df_encoded.select_dtypes(include='object'):\n",
        "    if col != 'NObeyesdad':\n",
        "        df_encoded[col] = LabelEncoder().fit_transform(df_encoded[col])\n"
      ],
      "metadata": {
        "id": "-FFVQ_QARY0b"
      },
      "execution_count": null,
      "outputs": []
    },
    {
      "cell_type": "code",
      "source": [
        "from imblearn.over_sampling import SMOTE\n",
        "\n",
        "X = df_encoded.drop(\"NObeyesdad\", axis=1)\n",
        "y = df_encoded[\"NObeyesdad\"]\n",
        "smote = SMOTE()\n",
        "X_resampled, y_resampled = smote.fit_resample(X, y)\n"
      ],
      "metadata": {
        "id": "i0Y2i2NsRcq5"
      },
      "execution_count": null,
      "outputs": []
    },
    {
      "cell_type": "code",
      "source": [
        "from sklearn.preprocessing import StandardScaler\n",
        "\n",
        "scaler = StandardScaler()\n",
        "X_scaled = scaler.fit_transform(X_resampled)\n"
      ],
      "metadata": {
        "id": "CQlrSjk7Rgak"
      },
      "execution_count": null,
      "outputs": []
    },
    {
      "cell_type": "code",
      "source": [
        "from sklearn.model_selection import train_test_split\n",
        "from sklearn.metrics import classification_report, confusion_matrix\n",
        "from sklearn.ensemble import RandomForestClassifier\n",
        "from sklearn.neighbors import KNeighborsClassifier\n",
        "from sklearn.svm import SVC\n",
        "\n",
        "X_train, X_test, y_train, y_test = train_test_split(X_scaled, y_resampled, test_size=0.2, random_state=42)\n",
        "\n",
        "models = {\n",
        "    \"KNN\": KNeighborsClassifier(),\n",
        "    \"Random Forest\": RandomForestClassifier(),\n",
        "    \"SVM\": SVC()\n",
        "}\n",
        "\n",
        "results = {}\n",
        "\n",
        "for name, model in models.items():\n",
        "    model.fit(X_train, y_train)\n",
        "    y_pred = model.predict(X_test)\n",
        "    print(f\"Model: {name}\")\n",
        "    print(confusion_matrix(y_test, y_pred))\n",
        "    print(classification_report(y_test, y_pred))\n",
        "    results[name] = {\n",
        "        'model': model,\n",
        "        'y_pred': y_pred\n",
        "    }\n"
      ],
      "metadata": {
        "colab": {
          "base_uri": "https://localhost:8080/"
        },
        "id": "vXE5bnmARkZM",
        "outputId": "f34fa799-3ba5-446b-d91e-4b69244ea8fe"
      },
      "execution_count": null,
      "outputs": [
        {
          "output_type": "stream",
          "name": "stdout",
          "text": [
            "Model: KNN\n",
            "[[59  3  1  0  0  0  1]\n",
            " [18 34  3  3  1 11  4]\n",
            " [ 0  2 65  5  0  1  1]\n",
            " [ 0  1  0 72  0  0  1]\n",
            " [ 0  0  0  2 68  0  1]\n",
            " [ 4 10  8  0  0 42  4]\n",
            " [ 3  0  3  0  1  2 55]]\n",
            "                     precision    recall  f1-score   support\n",
            "\n",
            "Insufficient_Weight       0.70      0.92      0.80        64\n",
            "      Normal_Weight       0.68      0.46      0.55        74\n",
            "     Obesity_Type_I       0.81      0.88      0.84        74\n",
            "    Obesity_Type_II       0.88      0.97      0.92        74\n",
            "   Obesity_Type_III       0.97      0.96      0.96        71\n",
            " Overweight_Level_I       0.75      0.62      0.68        68\n",
            "Overweight_Level_II       0.82      0.86      0.84        64\n",
            "\n",
            "           accuracy                           0.81       489\n",
            "          macro avg       0.80      0.81      0.80       489\n",
            "       weighted avg       0.80      0.81      0.80       489\n",
            "\n",
            "Model: Random Forest\n",
            "[[62  2  0  0  0  0  0]\n",
            " [ 2 68  0  0  0  4  0]\n",
            " [ 0  0 74  0  0  0  0]\n",
            " [ 0  0  0 74  0  0  0]\n",
            " [ 0  0  0  0 71  0  0]\n",
            " [ 0  8  0  0  0 60  0]\n",
            " [ 0  0  1  0  0  0 63]]\n",
            "                     precision    recall  f1-score   support\n",
            "\n",
            "Insufficient_Weight       0.97      0.97      0.97        64\n",
            "      Normal_Weight       0.87      0.92      0.89        74\n",
            "     Obesity_Type_I       0.99      1.00      0.99        74\n",
            "    Obesity_Type_II       1.00      1.00      1.00        74\n",
            "   Obesity_Type_III       1.00      1.00      1.00        71\n",
            " Overweight_Level_I       0.94      0.88      0.91        68\n",
            "Overweight_Level_II       1.00      0.98      0.99        64\n",
            "\n",
            "           accuracy                           0.97       489\n",
            "          macro avg       0.97      0.96      0.97       489\n",
            "       weighted avg       0.97      0.97      0.97       489\n",
            "\n",
            "Model: SVM\n",
            "[[60  4  0  0  0  0  0]\n",
            " [ 4 60  0  0  0  9  1]\n",
            " [ 0  3 64  5  0  0  2]\n",
            " [ 0  0  1 72  0  0  1]\n",
            " [ 0  0  1  0 70  0  0]\n",
            " [ 0  9  0  0  0 56  3]\n",
            " [ 0  3  2  0  0  5 54]]\n",
            "                     precision    recall  f1-score   support\n",
            "\n",
            "Insufficient_Weight       0.94      0.94      0.94        64\n",
            "      Normal_Weight       0.76      0.81      0.78        74\n",
            "     Obesity_Type_I       0.94      0.86      0.90        74\n",
            "    Obesity_Type_II       0.94      0.97      0.95        74\n",
            "   Obesity_Type_III       1.00      0.99      0.99        71\n",
            " Overweight_Level_I       0.80      0.82      0.81        68\n",
            "Overweight_Level_II       0.89      0.84      0.86        64\n",
            "\n",
            "           accuracy                           0.89       489\n",
            "          macro avg       0.89      0.89      0.89       489\n",
            "       weighted avg       0.89      0.89      0.89       489\n",
            "\n"
          ]
        }
      ]
    },
    {
      "cell_type": "code",
      "source": [
        "from sklearn.metrics import accuracy_score, precision_score, recall_score, f1_score\n",
        "\n",
        "scores = []\n",
        "for name in results:\n",
        "    y_pred = results[name]['y_pred']\n",
        "    scores.append({\n",
        "        'Model': name,\n",
        "        'Accuracy': accuracy_score(y_test, y_pred),\n",
        "        'Precision': precision_score(y_test, y_pred, average='weighted'),\n",
        "        'Recall': recall_score(y_test, y_pred, average='weighted'),\n",
        "        'F1': f1_score(y_test, y_pred, average='weighted')\n",
        "    })\n",
        "\n",
        "scores_df = pd.DataFrame(scores)\n",
        "scores_df.set_index(\"Model\").plot(kind='bar', figsize=(10,5), ylim=(0,1), title=\"Perbandingan Skor Model\")\n",
        "plt.show()\n"
      ],
      "metadata": {
        "id": "QlWHqz0ARqhs",
        "outputId": "d251387b-ce01-4b74-895e-5a8cf94d7b46",
        "colab": {
          "base_uri": "https://localhost:8080/",
          "height": 444
        }
      },
      "execution_count": null,
      "outputs": [
        {
          "output_type": "display_data",
          "data": {
            "text/plain": [
              "<Figure size 1000x500 with 1 Axes>"
            ],
            "image/png": "[encoded data removed]"
          },
          "metadata": {}
        }
      ]
    }
  ]
}