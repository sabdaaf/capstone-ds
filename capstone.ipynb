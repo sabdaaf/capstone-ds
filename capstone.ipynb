{
  "nbformat": 4,
  "nbformat_minor": 0,
  "metadata": {
    "colab": {
      "provenance": []
    },
    "kernelspec": {
      "name": "python3",
      "display_name": "Python 3"
    },
    "language_info": {
      "name": "python"
    }
  },
  "cells": [
    {
      "cell_type": "code",
      "execution_count": 8,
      "metadata": {
        "id": "OGpkOeGtFiBf"
      },
      "outputs": [],
      "source": [
        "import pandas as pd\n",
        "import matplotlib.pyplot as plt\n",
        "import seaborn as sns"
      ]
    },
    {
      "cell_type": "code",
      "source": [
        "df = pd.read_csv('ObesityDataSet.csv')"
      ],
      "metadata": {
        "id": "tE81BrQSGTOb"
      },
      "execution_count": 9,
      "outputs": []
    },
    {
      "cell_type": "markdown",
      "source": [
        "**EDA**"
      ],
      "metadata": {
        "id": "wKbvkD4_H_lq"
      }
    },
    {
      "cell_type": "code",
      "source": [
        "# Menampilkan beberapa baris pertama dari dataset\n",
        "df_head = df.head()"
      ],
      "metadata": {
        "id": "wuCLpTOIG2qY"
      },
      "execution_count": 10,
      "outputs": []
    },
    {
      "cell_type": "code",
      "source": [
        "df_info = df.info()"
      ],
      "metadata": {
        "colab": {
          "base_uri": "https://localhost:8080/"
        },
        "id": "hz5kG2J8G8xH",
        "outputId": "25abd661-2175-43cc-9bd0-ddf11cac9ebc"
      },
      "execution_count": 11,
      "outputs": [
        {
          "output_type": "stream",
          "name": "stdout",
          "text": [
            "<class 'pandas.core.frame.DataFrame'>\n",
            "RangeIndex: 2111 entries, 0 to 2110\n",
            "Data columns (total 17 columns):\n",
            " #   Column                          Non-Null Count  Dtype \n",
            "---  ------                          --------------  ----- \n",
            " 0   Age                             2097 non-null   object\n",
            " 1   Gender                          2102 non-null   object\n",
            " 2   Height                          2099 non-null   object\n",
            " 3   Weight                          2100 non-null   object\n",
            " 4   CALC                            2106 non-null   object\n",
            " 5   FAVC                            2100 non-null   object\n",
            " 6   FCVC                            2103 non-null   object\n",
            " 7   NCP                             2099 non-null   object\n",
            " 8   SCC                             2101 non-null   object\n",
            " 9   SMOKE                           2106 non-null   object\n",
            " 10  CH2O                            2105 non-null   object\n",
            " 11  family_history_with_overweight  2098 non-null   object\n",
            " 12  FAF                             2103 non-null   object\n",
            " 13  TUE                             2102 non-null   object\n",
            " 14  CAEC                            2100 non-null   object\n",
            " 15  MTRANS                          2105 non-null   object\n",
            " 16  NObeyesdad                      2111 non-null   object\n",
            "dtypes: object(17)\n",
            "memory usage: 280.5+ KB\n"
          ]
        }
      ]
    },
    {
      "cell_type": "code",
      "source": [
        "# Menampilkan deskripsi statistik dataset\n",
        "df_description = df.describe()"
      ],
      "metadata": {
        "id": "1Rg4nMJBHQEO"
      },
      "execution_count": 13,
      "outputs": []
    },
    {
      "cell_type": "code",
      "source": [
        "# Menampilkan cek missing values dan unique values\n",
        "missing_values = df.isnull().sum()\n",
        "unique_values = df.nunique()"
      ],
      "metadata": {
        "id": "3Zi036X5HWSF"
      },
      "execution_count": 14,
      "outputs": []
    },
    {
      "cell_type": "code",
      "source": [
        "# Memeriksa duplikasi data\n",
        "duplicate_data = df.duplicated().sum()"
      ],
      "metadata": {
        "id": "SC7mn9QzHaFS"
      },
      "execution_count": 15,
      "outputs": []
    },
    {
      "cell_type": "code",
      "source": [
        "# Mengecek keseimbangan data dalam target variabel\n",
        "target_balance = df['NObeyesdad'].value_counts()"
      ],
      "metadata": {
        "id": "9MMqpXA2HfNb"
      },
      "execution_count": 16,
      "outputs": []
    },
    {
      "cell_type": "code",
      "source": [
        "# Memilih hanya kolom numerik untuk boxplot\n",
        "numeric_data = df.select_dtypes(include=['object']).apply(pd.to_numeric, errors='coerce')"
      ],
      "metadata": {
        "id": "Sc5eWT8xHiZB"
      },
      "execution_count": 18,
      "outputs": []
    },
    {
      "cell_type": "code",
      "source": [
        "# Membuat boxplot untuk deteksi outlier\n",
        "plt.figure(figsize=(10, 6))\n",
        "sns.boxplot(data=numeric_data)\n",
        "plt.title('Boxplot untuk Deteksi Outlier')\n",
        "plt.xticks(rotation=90)\n",
        "plt.show()"
      ],
      "metadata": {
        "colab": {
          "base_uri": "https://localhost:8080/",
          "height": 750
        },
        "id": "QlnAYP3rHnkv",
        "outputId": "68db68a9-1c70-4707-b4c3-d7706635331a"
      },
      "execution_count": 19,
      "outputs": [
        {
          "output_type": "display_data",
          "data": {
            "text/plain": [
              "<Figure size 1000x600 with 1 Axes>"
            ],
            "image/png": "[encoded data removed]"
          },
          "metadata": {}
        }
      ]
    },
    {
      "cell_type": "code",
      "source": [
        "# Menampilkan hasil analisis\n",
        "(df_head, df_info, df_description, missing_values, unique_values, duplicate_data, target_balance)"
      ],
      "metadata": {
        "colab": {
          "base_uri": "https://localhost:8080/"
        },
        "id": "8itnH31WHsXw",
        "outputId": "6e5b92dc-be0c-40a1-a7a5-d62612287314"
      },
      "execution_count": 20,
      "outputs": [
        {
          "output_type": "execute_result",
          "data": {
            "text/plain": [
              "(  Age  Gender Height Weight        CALC FAVC FCVC NCP  SCC SMOKE CH2O  \\\n",
              " 0  21  Female   1.62     64          no   no    2   3   no    no    2   \n",
              " 1  21  Female   1.52     56   Sometimes   no    3   3  yes   yes    3   \n",
              " 2  23    Male    1.8     77  Frequently   no    2   3   no    no    2   \n",
              " 3  27    Male    1.8     87  Frequently   no    3   3   no    no    2   \n",
              " 4  22    Male   1.78   89.8   Sometimes   no    2   1   no    no    2   \n",
              " \n",
              "   family_history_with_overweight FAF TUE       CAEC                 MTRANS  \\\n",
              " 0                            yes   0   1  Sometimes  Public_Transportation   \n",
              " 1                            yes   3   0  Sometimes  Public_Transportation   \n",
              " 2                            yes   2   1  Sometimes  Public_Transportation   \n",
              " 3                             no   2   0  Sometimes                Walking   \n",
              " 4                             no   0   0  Sometimes  Public_Transportation   \n",
              " \n",
              "             NObeyesdad  \n",
              " 0        Normal_Weight  \n",
              " 1        Normal_Weight  \n",
              " 2        Normal_Weight  \n",
              " 3   Overweight_Level_I  \n",
              " 4  Overweight_Level_II  ,\n",
              " None,\n",
              "          Age Gender Height Weight       CALC  FAVC  FCVC   NCP   SCC SMOKE  \\\n",
              " count   2097   2102   2099   2100       2106  2100  2103  2099  2101  2106   \n",
              " unique  1394      3   1562   1518          5     3   808   637     3     3   \n",
              " top       18   Male    1.7     80  Sometimes   yes     3     3    no    no   \n",
              " freq     124   1056     58     58       1386  1844   647  1183  1997  2054   \n",
              " \n",
              "         CH2O family_history_with_overweight   FAF   TUE       CAEC  \\\n",
              " count   2105                           2098  2103  2102       2100   \n",
              " unique  1263                              3  1186  1130          5   \n",
              " top        2                            yes     0     0  Sometimes   \n",
              " freq     441                           1705   404   552       1747   \n",
              " \n",
              "                        MTRANS      NObeyesdad  \n",
              " count                    2105            2111  \n",
              " unique                      6               7  \n",
              " top     Public_Transportation  Obesity_Type_I  \n",
              " freq                     1572             351  ,\n",
              " Age                               14\n",
              " Gender                             9\n",
              " Height                            12\n",
              " Weight                            11\n",
              " CALC                               5\n",
              " FAVC                              11\n",
              " FCVC                               8\n",
              " NCP                               12\n",
              " SCC                               10\n",
              " SMOKE                              5\n",
              " CH2O                               6\n",
              " family_history_with_overweight    13\n",
              " FAF                                8\n",
              " TUE                                9\n",
              " CAEC                              11\n",
              " MTRANS                             6\n",
              " NObeyesdad                         0\n",
              " dtype: int64,\n",
              " Age                               1394\n",
              " Gender                               3\n",
              " Height                            1562\n",
              " Weight                            1518\n",
              " CALC                                 5\n",
              " FAVC                                 3\n",
              " FCVC                               808\n",
              " NCP                                637\n",
              " SCC                                  3\n",
              " SMOKE                                3\n",
              " CH2O                              1263\n",
              " family_history_with_overweight       3\n",
              " FAF                               1186\n",
              " TUE                               1130\n",
              " CAEC                                 5\n",
              " MTRANS                               6\n",
              " NObeyesdad                           7\n",
              " dtype: int64,\n",
              " np.int64(18),\n",
              " NObeyesdad\n",
              " Obesity_Type_I         351\n",
              " Obesity_Type_III       324\n",
              " Obesity_Type_II        297\n",
              " Overweight_Level_I     290\n",
              " Overweight_Level_II    290\n",
              " Normal_Weight          287\n",
              " Insufficient_Weight    272\n",
              " Name: count, dtype: int64)"
            ]
          },
          "metadata": {},
          "execution_count": 20
        }
      ]
    }
  ]
}